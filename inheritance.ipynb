{
 "cells": [
  {
   "cell_type": "markdown",
   "id": "1fe2477c",
   "metadata": {},
   "source": [
    "# Inheritance\n",
    "## A way to create a new class (child) that inherits attributes and methods from another class (parent)."
   ]
  },
  {
   "cell_type": "code",
   "execution_count": 22,
   "id": "a005ff96",
   "metadata": {},
   "outputs": [],
   "source": [
    "class Animal:\n",
    "    def __init__(self, name):\n",
    "        self.name = name\n",
    "\n",
    "class Dog(Animal):\n",
    "    def speak(self):\n",
    "        print(f\"{self.name} barks.\")"
   ]
  },
  {
   "cell_type": "code",
   "execution_count": 23,
   "id": "67024627",
   "metadata": {},
   "outputs": [
    {
     "name": "stdout",
     "output_type": "stream",
     "text": [
      "Buddy barks.\n"
     ]
    }
   ],
   "source": [
    "dog = Dog(\"Buddy\")\n",
    "dog.speak()  # \"Buddy barks."
   ]
  },
  {
   "cell_type": "markdown",
   "id": "d0f58fee",
   "metadata": {},
   "source": [
    "# Polymorphism\n",
    "## Different classes can define the same method name in different ways."
   ]
  },
  {
   "cell_type": "code",
   "execution_count": 24,
   "id": "e2b6471f",
   "metadata": {},
   "outputs": [],
   "source": [
    "class Cat(Animal):\n",
    "    def speak(self):\n",
    "        print(f\"{self.name} meows.\")"
   ]
  },
  {
   "cell_type": "code",
   "execution_count": 25,
   "id": "76cb1b77",
   "metadata": {},
   "outputs": [
    {
     "name": "stdout",
     "output_type": "stream",
     "text": [
      "Rex barks.\n",
      "Whiskers meows.\n"
     ]
    }
   ],
   "source": [
    "animals = [Dog(\"Rex\"), Cat(\"Whiskers\")]\n",
    "for animal in animals:\n",
    "    animal.speak()"
   ]
  },
  {
   "cell_type": "markdown",
   "id": "c95d31d9",
   "metadata": {},
   "source": [
    "# Inheritance with Constructors\n",
    "## Parent class"
   ]
  },
  {
   "cell_type": "code",
   "execution_count": 26,
   "id": "31249897",
   "metadata": {},
   "outputs": [],
   "source": [
    "class Animal:\n",
    "    def __init__(self, name):\n",
    "        self.name = name\n",
    "        print(f\"Animal created with name: {self.name}\")\n",
    "\n",
    "    def speak(self):\n",
    "        print(f\"{self.name} makes a sound.\")"
   ]
  },
  {
   "cell_type": "markdown",
   "id": "f7817bb1",
   "metadata": {},
   "source": [
    "## Child class"
   ]
  },
  {
   "cell_type": "code",
   "execution_count": 27,
   "id": "124cb8f0",
   "metadata": {},
   "outputs": [],
   "source": [
    "class Dog(Animal):\n",
    "    def __init__(self, name, breed):\n",
    "        # Call the parent constructor\n",
    "        super().__init__(name)\n",
    "        self.breed = breed\n",
    "        print(f\"Dog created with breed: {self.breed}\")\n",
    "\n",
    "    # Overriding speak method\n",
    "    def speak(self):\n",
    "        print(f\"{self.name} barks.\")"
   ]
  },
  {
   "cell_type": "markdown",
   "id": "c867bb72",
   "metadata": {},
   "source": [
    "## Create an instance of Dog\n"
   ]
  },
  {
   "cell_type": "code",
   "execution_count": 28,
   "id": "90f18c8f",
   "metadata": {},
   "outputs": [
    {
     "name": "stdout",
     "output_type": "stream",
     "text": [
      "Animal created with name: Buddy\n",
      "Dog created with breed: Golden Retriever\n",
      "Buddy barks.\n"
     ]
    }
   ],
   "source": [
    "my_dog = Dog(\"Buddy\", \"Golden Retriever\")\n",
    "my_dog.speak()"
   ]
  }
 ],
 "metadata": {
  "kernelspec": {
   "display_name": "Python 3",
   "language": "python",
   "name": "python3"
  },
  "language_info": {
   "codemirror_mode": {
    "name": "ipython",
    "version": 3
   },
   "file_extension": ".py",
   "mimetype": "text/x-python",
   "name": "python",
   "nbconvert_exporter": "python",
   "pygments_lexer": "ipython3",
   "version": "3.12.1"
  }
 },
 "nbformat": 4,
 "nbformat_minor": 5
}
