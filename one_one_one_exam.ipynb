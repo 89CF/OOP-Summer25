{
 "cells": [
  {
   "cell_type": "code",
   "execution_count": 1,
   "id": "3e90437e",
   "metadata": {},
   "outputs": [
    {
     "name": "stdout",
     "output_type": "stream",
     "text": [
      "Ahmet\n"
     ]
    }
   ],
   "source": [
    "print('Ahmet')"
   ]
  },
  {
   "cell_type": "code",
   "execution_count": 2,
   "id": "3239e277",
   "metadata": {},
   "outputs": [
    {
     "name": "stdout",
     "output_type": "stream",
     "text": [
      "35279\n"
     ]
    }
   ],
   "source": [
    "number = 35279\n",
    "\n",
    "print(number)"
   ]
  },
  {
   "cell_type": "code",
   "execution_count": 3,
   "id": "ba3f9914",
   "metadata": {},
   "outputs": [],
   "source": [
    "dict = {\n",
    "  \"animal\": \"Cat\",\n",
    "  \"Cins\": \"Tekir\",\n",
    "  \"Yas\": 2\n",
    "}"
   ]
  }
 ],
 "metadata": {
  "kernelspec": {
   "display_name": "Python 3",
   "language": "python",
   "name": "python3"
  },
  "language_info": {
   "codemirror_mode": {
    "name": "ipython",
    "version": 3
   },
   "file_extension": ".py",
   "mimetype": "text/x-python",
   "name": "python",
   "nbconvert_exporter": "python",
   "pygments_lexer": "ipython3",
   "version": "3.12.1"
  }
 },
 "nbformat": 4,
 "nbformat_minor": 5
}
