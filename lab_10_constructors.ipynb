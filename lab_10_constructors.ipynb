{
 "cells": [
  {
   "cell_type": "code",
   "execution_count": 1,
   "id": "c0741abf",
   "metadata": {},
   "outputs": [],
   "source": [
    "class Animal:\n",
    "    def __init__(self):\n",
    "        print(\"An Animal has been created!\")"
   ]
  },
  {
   "cell_type": "code",
   "execution_count": 2,
   "id": "bda5640c",
   "metadata": {},
   "outputs": [
    {
     "name": "stdout",
     "output_type": "stream",
     "text": [
      "An Animal has been created!\n",
      "An Animal has been created!\n",
      "An Animal has been created!\n"
     ]
    }
   ],
   "source": [
    "animal1 = Animal()\n",
    "animal2 = Animal()\n",
    "animal3 = Animal()"
   ]
  },
  {
   "cell_type": "code",
   "execution_count": 3,
   "id": "525ab3e9",
   "metadata": {},
   "outputs": [],
   "source": [
    "class Car:\n",
    "    def __init__(self, brand, model):\n",
    "        self.brand = brand\n",
    "        self.model = model\n",
    "        print(f\"Car created: {brand} {model}\")"
   ]
  },
  {
   "cell_type": "code",
   "execution_count": 4,
   "id": "d8559020",
   "metadata": {},
   "outputs": [
    {
     "name": "stdout",
     "output_type": "stream",
     "text": [
      "Car created: Toyota Corolla\n",
      "Car created: Ford Mustang\n",
      "Car created: Tesla Model 3\n"
     ]
    }
   ],
   "source": [
    "car1 = Car(\"Toyota\", \"Corolla\")\n",
    "car2 = Car(\"Ford\", \"Mustang\")\n",
    "car3 = Car(\"Tesla\", \"Model 3\")"
   ]
  },
  {
   "cell_type": "markdown",
   "id": "0f1e69c3",
   "metadata": {},
   "source": [
    "## Task for extra point - complex constructor"
   ]
  },
  {
   "cell_type": "code",
   "execution_count": 5,
   "id": "fe33a263",
   "metadata": {},
   "outputs": [],
   "source": [
    "class House:\n",
    "    def __init__(self, location, floors, furnitures):\n",
    "        self.location = location  # dictionary\n",
    "        self.floors = floors      # integer\n",
    "        self.furnitures = furnitures  # list of strings\n",
    "        print(f\"House created at {location['street']}, {location['city']}, {location['country']}\")\n",
    "        print(f\"Floors: {floors}\")\n",
    "        print(f\"Furnitures: {', '.join(furnitures)}\")"
   ]
  },
  {
   "cell_type": "code",
   "execution_count": 6,
   "id": "fb7416b5",
   "metadata": {},
   "outputs": [
    {
     "name": "stdout",
     "output_type": "stream",
     "text": [
      "House created at Maple Street 10, Warsaw, Poland\n",
      "Floors: 2\n",
      "Furnitures: Sofa, Table, Chair\n",
      "House created at Pine Road 42, Gdańsk, Poland\n",
      "Floors: 1\n",
      "Furnitures: Bed, Lamp, Bookshelf\n"
     ]
    }
   ],
   "source": [
    "house1 = House(\n",
    "    location={\n",
    "        'country': 'Poland',\n",
    "        'city': 'Warsaw',\n",
    "        'street': 'Maple Street 10'\n",
    "    },\n",
    "    floors=2,\n",
    "    furnitures=['Sofa', 'Table', 'Chair']\n",
    ")\n",
    "\n",
    "house2 = House(\n",
    "    location={\n",
    "        'country': 'Poland',\n",
    "        'city': 'Gdańsk',\n",
    "        'street': 'Pine Road 42'\n",
    "    },\n",
    "    floors=1,\n",
    "    furnitures=['Bed', 'Lamp', 'Bookshelf']\n",
    ")"
   ]
  }
 ],
 "metadata": {
  "kernelspec": {
   "display_name": "Python 3",
   "language": "python",
   "name": "python3"
  },
  "language_info": {
   "codemirror_mode": {
    "name": "ipython",
    "version": 3
   },
   "file_extension": ".py",
   "mimetype": "text/x-python",
   "name": "python",
   "nbconvert_exporter": "python",
   "pygments_lexer": "ipython3",
   "version": "3.12.1"
  }
 },
 "nbformat": 4,
 "nbformat_minor": 5
}
