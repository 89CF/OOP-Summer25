{
 "cells": [
  {
   "cell_type": "code",
   "execution_count": null,
   "id": "c0741abf",
   "metadata": {},
   "outputs": [],
   "source": [
    "class Animal:\n",
    "    def __init__(self):\n",
    "        print(\"An Animal has been created!\")"
   ]
  },
  {
   "cell_type": "code",
   "execution_count": null,
   "id": "bda5640c",
   "metadata": {},
   "outputs": [],
   "source": [
    "animal1 = Animal()\n",
    "animal2 = Animal()\n",
    "animal3 = Animal()"
   ]
  },
  {
   "cell_type": "code",
   "execution_count": null,
   "id": "525ab3e9",
   "metadata": {},
   "outputs": [],
   "source": [
    "class Car:\n",
    "    def __init__(self, brand, model):\n",
    "        self.brand = brand\n",
    "        self.model = model\n",
    "        print(f\"Car created: {brand} {model}\")"
   ]
  },
  {
   "cell_type": "code",
   "execution_count": null,
   "id": "d8559020",
   "metadata": {},
   "outputs": [],
   "source": [
    "car1 = Car(\"Toyota\", \"Corolla\")\n",
    "car2 = Car(\"Ford\", \"Mustang\")\n",
    "car3 = Car(\"Tesla\", \"Model 3\")"
   ]
  },
  {
   "cell_type": "markdown",
   "id": "0f1e69c3",
   "metadata": {},
   "source": [
    "## Task for extra point - complex constructor"
   ]
  },
  {
   "cell_type": "code",
   "execution_count": null,
   "id": "fe33a263",
   "metadata": {},
   "outputs": [],
   "source": [
    "class House:\n",
    "    def __init__(self, location, floors, furnitures):\n",
    "        self.location = location  # dictionary\n",
    "        self.floors = floors      # integer\n",
    "        self.furnitures = furnitures  # list of strings\n",
    "        print(f\"House created at {location['street']}, {location['city']}, {location['country']}\")\n",
    "        print(f\"Floors: {floors}\")\n",
    "        print(f\"Furnitures: {', '.join(furnitures)}\")"
   ]
  },
  {
   "cell_type": "code",
   "execution_count": null,
   "id": "fb7416b5",
   "metadata": {},
   "outputs": [],
   "source": [
    "house1 = House(\n",
    "    location={\n",
    "        'country': 'Poland',\n",
    "        'city': 'Warsaw',\n",
    "        'street': 'Maple Street 10'\n",
    "    },\n",
    "    floors=2,\n",
    "    furnitures=['Sofa', 'Table', 'Chair']\n",
    ")\n",
    "\n",
    "house2 = House(\n",
    "    location={\n",
    "        'country': 'Poland',\n",
    "        'city': 'Gdańsk',\n",
    "        'street': 'Pine Road 42'\n",
    "    },\n",
    "    floors=1,\n",
    "    furnitures=['Bed', 'Lamp', 'Bookshelf']\n",
    ")"
   ]
  }
 ],
 "metadata": {},
 "nbformat": 4,
 "nbformat_minor": 5
}
